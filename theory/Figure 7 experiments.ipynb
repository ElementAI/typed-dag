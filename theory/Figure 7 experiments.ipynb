{
 "cells": [
  {
   "cell_type": "markdown",
   "metadata": {},
   "source": [
    "# Figure 7 experiments\n",
    "\n",
    "With this jupyter notebook, it is possible to replicate the experiments shown in Figure 7 in the appendix of \"Typing assumptions improve identification in causal discovery\". In a first step, the experiments are performed and in a second step, the results are plotted."
   ]
  },
  {
   "cell_type": "code",
   "execution_count": 1,
   "metadata": {},
   "outputs": [],
   "source": [
    "from main import compare_tmec_size\n",
    "from plot import boxplot\n",
    "import pandas as pd"
   ]
  },
  {
   "cell_type": "markdown",
   "metadata": {},
   "source": [
    "## Run experiments"
   ]
  },
  {
   "cell_type": "code",
   "execution_count": 30,
   "metadata": {},
   "outputs": [],
   "source": [
    "# to perform quick tests, can run with small value for n_graph\n",
    "\n",
    "# default values\n",
    "results_folder = \"results_appendix\"\n",
    "n_type_list = [10]\n",
    "n_node_list = [50]\n",
    "probs_inter_list = [0.2]\n",
    "probs_intra_list = [0.0]\n",
    "n_graph = 100\n",
    "\n",
    "n_nodes = [10, 20, 30, 40, 50, 60, 70, 80, 90, 100]\n",
    "n_types = [2, 5, 10, 15, 20, 30, 40, 50]\n",
    "p_inters = [0.1, 0.15, 0.2, 0.25, 0.3, 0.35, 0.4, 0.45, 0.5]"
   ]
  },
  {
   "cell_type": "code",
   "execution_count": 4,
   "metadata": {},
   "outputs": [],
   "source": [
    "# Fig.7a) number of vertices vary\n",
    "compare_tmec_size(results_folder,\n",
    "                  \"vertices\",\n",
    "                  n_type_list,\n",
    "                  n_nodes,\n",
    "                  probs_inter_list,\n",
    "                  probs_intra_list,\n",
    "                  n_graph=n_graph,\n",
    "                  n_cpu=1)"
   ]
  },
  {
   "cell_type": "code",
   "execution_count": 5,
   "metadata": {},
   "outputs": [],
   "source": [
    "# Fig.7b) number of types vary\n",
    "compare_tmec_size(results_folder,\n",
    "                  \"types\",\n",
    "                  n_types,\n",
    "                  n_node_list,\n",
    "                  probs_inter_list,\n",
    "                  probs_intra_list,\n",
    "                  n_graph=n_graph,\n",
    "                  n_cpu=1)"
   ]
  },
  {
   "cell_type": "code",
   "execution_count": 3,
   "metadata": {},
   "outputs": [],
   "source": [
    "# Fig.7c) density vary\n",
    "compare_tmec_size(results_folder,\n",
    "                  \"density\",\n",
    "                  n_type_list,\n",
    "                  n_node_list,\n",
    "                  p_inters,\n",
    "                  probs_intra_list,\n",
    "                  n_graph=n_graph,\n",
    "                  n_cpu=1)"
   ]
  },
  {
   "cell_type": "markdown",
   "metadata": {},
   "source": [
    "## Plot results"
   ]
  },
  {
   "cell_type": "markdown",
   "metadata": {},
   "source": [
    "### (a) Size MEC vs t-MEC w.r.t number of vertices"
   ]
  },
  {
   "cell_type": "code",
   "execution_count": 22,
   "metadata": {},
   "outputs": [],
   "source": [
    "results_path = f\"{results_folder}/results_vertices.csv\"\n",
    "r = pd.read_csv(results_path)\n",
    "\n",
    "mec_size = []\n",
    "for nodes in n_nodes:\n",
    "    mec_size.append(r[r[\"n_nodes\"] == nodes][\"mec_size\"].values)\n",
    "\n",
    "tmec_size = []\n",
    "for nodes in n_nodes:\n",
    "    tmec_size.append(r[r[\"n_nodes\"] == nodes][\"tmec_size\"].values)"
   ]
  },
  {
   "cell_type": "code",
   "execution_count": 23,
   "metadata": {},
   "outputs": [
    {
     "data": {
      "image/png": "[encoded data removed]",
      "text/plain": [
       "<Figure size 432x288 with 1 Axes>"
      ]
     },
     "metadata": {
      "needs_background": "light"
     },
     "output_type": "display_data"
    }
   ],
   "source": [
    "boxplot(ticks=n_nodes,\n",
    "        path=results_path,\n",
    "        data_a=mec_size,\n",
    "        data_b=tmec_size,\n",
    "        xlabel=\"Number of vertices\",\n",
    "        image_name=\"Fig_7a\",\n",
    "        log_scale=True,)"
   ]
  },
  {
   "cell_type": "markdown",
   "metadata": {},
   "source": [
    "### (b) Size MEC vs t-MEC w.r.t number of types"
   ]
  },
  {
   "cell_type": "code",
   "execution_count": 37,
   "metadata": {},
   "outputs": [],
   "source": [
    "results_path = f\"{results_folder}/results_types.csv\"\n",
    "r = pd.read_csv(results_path)\n",
    "\n",
    "mec_size = []\n",
    "for types in n_types:\n",
    "    mec_size.append(r[r[\"n_types\"] == types][\"mec_size\"].values)\n",
    "\n",
    "tmec_size = []\n",
    "for types in n_types:\n",
    "    tmec_size.append(r[r[\"n_types\"] == types][\"tmec_size\"].values)"
   ]
  },
  {
   "cell_type": "code",
   "execution_count": 27,
   "metadata": {},
   "outputs": [
    {
     "data": {
      "image/png": "[encoded data removed]",
      "text/plain": [
       "<Figure size 432x288 with 1 Axes>"
      ]
     },
     "metadata": {
      "needs_background": "light"
     },
     "output_type": "display_data"
    }
   ],
   "source": [
    "boxplot(ticks=n_types,\n",
    "        path=results_path,\n",
    "        data_a=mec_size,\n",
    "        data_b=tmec_size,\n",
    "        xlabel=\"Number of types\",\n",
    "        image_name=\"Fig_7b\",\n",
    "        log_scale=True,)"
   ]
  },
  {
   "cell_type": "markdown",
   "metadata": {},
   "source": [
    "### (c) Size MEC vs t-MEC w.r.t density"
   ]
  },
  {
   "cell_type": "code",
   "execution_count": 42,
   "metadata": {},
   "outputs": [],
   "source": [
    "results_path = f\"{results_folder}/results_density.csv\"\n",
    "r = pd.read_csv(results_path)\n",
    "\n",
    "mec_size = []\n",
    "for p_inter in p_inters:\n",
    "    mec_size.append(r[r[\"prob_inter\"] == p_inter][\"mec_size\"].values)\n",
    "\n",
    "tmec_size = []\n",
    "for p_inter in p_inters:\n",
    "    tmec_size.append(r[r[\"prob_inter\"] == p_inter][\"tmec_size\"].values)"
   ]
  },
  {
   "cell_type": "code",
   "execution_count": 43,
   "metadata": {},
   "outputs": [
    {
     "data": {
      "image/png": "[encoded data removed]",
      "text/plain": [
       "<Figure size 432x288 with 1 Axes>"
      ]
     },
     "metadata": {
      "needs_background": "light"
     },
     "output_type": "display_data"
    }
   ],
   "source": [
    "boxplot(ticks=p_inters,\n",
    "        path=results_path,\n",
    "        data_a=mec_size,\n",
    "        data_b=tmec_size,\n",
    "        xlabel=\"Density\",\n",
    "        image_name=\"Fig_7c\",\n",
    "        log_scale=True,)"
   ]
  }
 ],
 "metadata": {
  "kernelspec": {
   "display_name": "Python [conda env:py37]",
   "language": "python",
   "name": "conda-env-py37-py"
  },
  "language_info": {
   "codemirror_mode": {
    "name": "ipython",
    "version": 3
   },
   "file_extension": ".py",
   "mimetype": "text/x-python",
   "name": "python",
   "nbconvert_exporter": "python",
   "pygments_lexer": "ipython3",
   "version": "3.7.2"
  }
 },
 "nbformat": 4,
 "nbformat_minor": 2
}
